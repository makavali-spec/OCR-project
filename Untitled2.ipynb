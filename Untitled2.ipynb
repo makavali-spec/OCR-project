{
 "cells": [
  {
   "cell_type": "code",
   "execution_count": null,
   "id": "ec593e90-0ccd-4477-807a-12df6e562531",
   "metadata": {},
   "outputs": [],
   "source": [
    "import io\n",
    "import pytesseract\n",
    "import tempfile\n",
    "from pdf2image import convert_from_path, convert_from_bytes"
   ]
  },
  {
   "cell_type": "code",
   "execution_count": null,
   "id": "ac80b7cb-31f8-439a-a3df-98dcc1cbf50c",
   "metadata": {},
   "outputs": [],
   "source": [
    "try:\n",
    "    path = str(input(\"Enter path to pdf file:: \"))\n",
    "    if path.endswith(\".pdf\"):\n",
    "        pass\n",
    "    else:\n",
    "        path = str(input(\"Enter path to pdf file:: \"))\n",
    "except:\n",
    "    print(\"Only accept pdf file\")\n",
    "\n",
    "with tempfile.TemporaryDirectory() as path:\n",
    "    #'7966373.pdf'\n",
    "    images = convert_from_path(path, output_folder=path)\n",
    "\n",
    "\n",
    "# If you want to save the images to a specific directory, you can do something like this:\n",
    "# images = convert_from_path('your_pdf_file.pdf', output_folder='/path/to/your/output_directory/')\n",
    "extracted_text = []\n",
    "for i, image in enumerate(images):\n",
    "    # Convert the image to grayscale (if needed)\n",
    "    gray = image.convert('L')\n",
    "\n",
    "    # Use pytesseract to extract text from the image\n",
    "    text = pytesseract.image_to_string(gray, lang='eng')\n",
    "\n",
    "    extracted_text.append(text)\n",
    "\n",
    "    # Print or save the extracted text from the current page\n",
    "    print(f\"Page {i + 1}:\")\n",
    "    print(text)\n",
    "\n",
    "\n",
    "output_text_file = '/content/extracted1_text.txt'\n",
    "with open(output_text_file, 'w') as txt_file:\n",
    "    txt_file.write(\"\\n\".join(extracted_text))\n",
    "\n",
    "\n",
    "        # Save the extracted text to a text file\n",
    "#output_text_file = '/content/extracted_text1.txt'\n",
    "#with open(output_text_file, 'w') as txt_file:\n",
    "#    txt_file.write(\"\\n\".join(text))\n",
    "\n",
    "#txt_file.close()"
   ]
  }
 ],
 "metadata": {
  "kernelspec": {
   "display_name": "Python 3 (ipykernel)",
   "language": "python",
   "name": "python3"
  },
  "language_info": {
   "codemirror_mode": {
    "name": "ipython",
    "version": 3
   },
   "file_extension": ".py",
   "mimetype": "text/x-python",
   "name": "python",
   "nbconvert_exporter": "python",
   "pygments_lexer": "ipython3",
   "version": "3.9.13"
  }
 },
 "nbformat": 4,
 "nbformat_minor": 5
}
